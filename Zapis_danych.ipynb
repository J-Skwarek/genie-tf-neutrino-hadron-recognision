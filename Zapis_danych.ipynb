{
  "cells": [
    {
      "cell_type": "markdown",
      "metadata": {},
      "source": [
        "## 2. Zapis zmiennych kinematycznych\n",
        "W tym kroku używamy otrzymane wcześniej pliki do stworzenia zbiorów danych ze zmiennymi kinematycznymi dla każdego zdarzenia. Zbiór zapisujemy do formatu .csv"
      ]
    },
    {
      "cell_type": "code",
      "execution_count": null,
      "metadata": {},
      "outputs": [],
      "source": [
        "import csv\n",
        "import numpy as np"
      ]
    },
    {
      "cell_type": "code",
      "execution_count": null,
      "metadata": {},
      "outputs": [],
      "source": [
        "def loading_data_restructured(file):\n",
        "    with open(file, 'r', encoding='utf-8') as f:\n",
        "        all_events = []\n",
        "        reader = csv.reader(f)\n",
        "        header = next(reader)  # pomijamy nagłówek\n",
        "\n",
        "        for row in reader:\n",
        "            event_num = int(row[0])           # numer zdarzenia\n",
        "            interaction_type = row[1]         # typ interakcji (CC / NC)\n",
        "            particles = []\n",
        "\n",
        "            # dane cząstek (pid, px, py, pz, E)\n",
        "            for i in range(3, len(row), 5):\n",
        "                try:\n",
        "                    pid = int(row[i])\n",
        "                    px = float(row[i+1])\n",
        "                    py = float(row[i+2])\n",
        "                    pz = float(row[i+3])\n",
        "                    E  = float(row[i+4])\n",
        "                    M = np.sqrt(max(E**2 - (px**2 + py**2 + pz**2), 0))\n",
        "                    particles.append([pid, px, py, pz, E, M])\n",
        "                except (ValueError, IndexError):\n",
        "                    continue\n",
        "\n",
        "            if not particles:\n",
        "                continue\n",
        "\n",
        "            # całkowite wielkości dla zdarzenia\n",
        "            total_px = sum(p[1] for p in particles)\n",
        "            total_py = sum(p[2] for p in particles)\n",
        "            total_pz = sum(p[3] for p in particles)\n",
        "            total_E  = sum(p[4] for p in particles)\n",
        "            total_M  = np.sqrt(max(total_E**2 - (total_px**2 + total_py**2 + total_pz**2), 0))\n",
        "\n",
        "            event = [event_num, interaction_type, total_px, total_py, total_pz, total_E, total_M]\n",
        "            for p in particles:\n",
        "                event.extend(p)\n",
        "\n",
        "            all_events.append(event)\n",
        "\n",
        "    return all_events"
      ]
    },
    {
      "cell_type": "markdown",
      "metadata": {},
      "source": [
        "Następnie filtrujemy zdarzenia, aby uzyskać tło oraz sygnał.\n",
        "Chcemy wybrać tylko zdarzenia zawierające:\n",
        "- dokładnie **1 proton (PID = 2212)**,  \n",
        "- dokładnie **3 piony (PID = 211 lub -211)**,  \n",
        "- razem 4 cząstki w zdarzeniu.  \n",
        "\n",
        "Poniżej dwa warianty:\n",
        "- `CC` (sygnał)  \n",
        "- `NC` (tło)  "
      ]
    },
    {
      "cell_type": "code",
      "execution_count": null,
      "metadata": {},
      "outputs": [],
      "source": [
        "def filter_proton_3pion_CC(events):\n",
        "    filtered = []\n",
        "    for event in events:\n",
        "        if event[1] != \"CC\":\n",
        "            continue\n",
        "        pids = [int(event[i]) for i in range(7, len(event), 6)] # Czytamy kody PDG cząstek w zdarzeniu\n",
        "        if pids.count(2212) == 1 and (pids.count(211) + pids.count(-211)) == 3 and len(pids) == 4: # Tylko zdarzenia 3pi+p\n",
        "            filtered.append(event)\n",
        "    return filtered\n",
        "\n",
        "\n",
        "def filter_proton_3pion_NC(events):\n",
        "    filtered = []\n",
        "    for event in events:\n",
        "        if event[1] != \"NC\":\n",
        "            continue\n",
        "        pids = [int(event[i]) for i in range(7, len(event), 6)]\n",
        "        if pids.count(2212) == 1 and (pids.count(211) + pids.count(-211)) == 3 and len(pids) == 4:\n",
        "            filtered.append(event)\n",
        "    return filtered"
      ]
    },
    {
      "cell_type": "markdown",
      "metadata": {},
      "source": [
        "Obliczamy sferyczność zdarzenia."
      ]
    },
    {
      "cell_type": "code",
      "execution_count": null,
      "metadata": {},
      "outputs": [],
      "source": [
        "def compute_sphericity(event):\n",
        "    particles = []\n",
        "    for i in range(7, len(event), 6):\n",
        "        try:\n",
        "            px = event[i+1]\n",
        "            py = event[i+2]\n",
        "            pz = event[i+3]\n",
        "            particles.append([px, py, pz])\n",
        "        except IndexError:\n",
        "            continue\n",
        "\n",
        "    if len(particles) < 2:\n",
        "        return 0\n",
        "\n",
        "    S = np.zeros((3, 3)) #Tworzymy macierz 3x3\n",
        "    denominator = 0\n",
        "    # Liczymy macierz sferyczności zgodnie ze wzorem\n",
        "    for p in particles:\n",
        "        p_vec = np.array(p)\n",
        "        denominator += np.dot(p_vec, p_vec) \n",
        "        for i in range(3):\n",
        "            for j in range(3):\n",
        "                S[i][j] += p_vec[i] * p_vec[j]\n",
        "\n",
        "    if denominator == 0:\n",
        "        return 0\n",
        "\n",
        "    S /= denominator\n",
        "    # Liczymy wartości własne macierzy i sortujemy je od największej do najmniejszej\n",
        "    eigenvalues = np.linalg.eigvalsh(S)\n",
        "    eigenvalues = sorted(eigenvalues, reverse=True)\n",
        "    # Liczymy sferyczność\n",
        "    sphericity = 1.5 * (eigenvalues[1] + eigenvalues[2])\n",
        "    return sphericity"
      ]
    },
    {
      "cell_type": "markdown",
      "metadata": {},
      "source": [
        "Następnie zapisujemy parametry zdarzenia do pliku. \n",
        "Dla każdego zdarzenia zapisujemy:\n",
        "- typ interakcji (CC / NC),  \n",
        "- energię całkowitą `E`,  \n",
        "- sferyczność,  \n",
        "- poprzeczny pęd `pT`,  \n",
        "- kąt względem osi z,  \n",
        "- składową `Pz`.  \n",
        "Typ interakcji zapisuje w celach kontrolnych, w dalszej analizie jest ignorowany."
      ]
    },
    {
      "cell_type": "code",
      "execution_count": null,
      "metadata": {},
      "outputs": [],
      "source": [
        "def save_events_to_csv(events, output_filename, max_events=50000):\n",
        "    with open(output_filename, 'w', newline='', encoding='utf-8') as f:\n",
        "        writer = csv.writer(f)\n",
        "        writer.writerow(['Typ', 'E', 'Sferyczność', 'pT', 'Kąt z (deg)', 'Pz'])\n",
        "\n",
        "        for event in events[:max_events]:\n",
        "            typ = event[1]\n",
        "            E = event[5]\n",
        "            Px = event[2]\n",
        "            Py = event[3]\n",
        "            Pz = event[4]\n",
        "\n",
        "            pT = np.sqrt(Px**2 + Py**2)\n",
        "            p = np.array([Px, Py, Pz])\n",
        "            angle_z_deg = np.degrees(np.arccos(Pz / (np.linalg.norm(p) + 1e-8)))\n",
        "\n",
        "            spher = compute_sphericity(event)\n",
        "\n",
        "            writer.writerow([typ, E, spher, pT, angle_z_deg, Pz])"
      ]
    },
    {
      "cell_type": "markdown",
      "metadata": {},
      "source": [
        "Ręcznie ustawiam liczbę zdarzeń zapisywanych do plku \"signal.csv\" oraz \"bgd.csv\". Liczba zdarzeń jest obliczona w taki sposób, aby po odjęciu od obu zbiorów 50 000 zdarzeń, czyli liczby zdarzeń używanych w treningu, w zbiorach pozostawała liczba zdarzeń odpowiadająca stosunkowi sygnału do tła."
      ]
    },
    {
      "cell_type": "code",
      "execution_count": null,
      "metadata": {},
      "outputs": [],
      "source": [
        "# Pliki wejściowe\n",
        "file_CC = \"nuTau_data_CCQES.csv\"\n",
        "file_NC = \"nuTau_data_NC_6mil.csv\"\n",
        "\n",
        "# Liczba zdarzeń do zapisania\n",
        "N_signal = 59_685\n",
        "N_bgd = 126_092\n",
        "\n",
        "# Wczytywanie\n",
        "all_events_CC = loading_data_restructured(file_CC)\n",
        "all_events_NC = loading_data_restructured(file_NC)\n",
        "\n",
        "# Filtrowanie\n",
        "signal_events = filter_proton_3pion_CC(all_events_CC)\n",
        "bgd_events = filter_proton_3pion_NC(all_events_NC)\n",
        "\n",
        "# Zapis wyników\n",
        "save_events_to_csv(signal_events, \"signal.csv\", max_events=N_signal)\n",
        "save_events_to_csv(bgd_events, \"bgd.csv\", max_events=N_bgd)\n",
        "\n",
        "print(f\"Zapisano {min(len(signal_events), N_signal)} zdarzeń do 'signal.csv'\")\n",
        "print(f\"Zapisano {min(len(bgd_events), N_bgd)} zdarzeń do 'bgd.csv'\")"
      ]
    }
  ],
  "metadata": {
    "kernelspec": {
      "display_name": "Python 3",
      "language": "python",
      "name": "python3"
    },
    "language_info": {
      "codemirror_mode": {
        "name": "ipython",
        "version": 3
      },
      "file_extension": ".py",
      "mimetype": "text/x-python",
      "name": "python",
      "nbconvert_exporter": "python",
      "pygments_lexer": "ipython3",
      "version": "3.11"
    }
  },
  "nbformat": 4,
  "nbformat_minor": 5
}
