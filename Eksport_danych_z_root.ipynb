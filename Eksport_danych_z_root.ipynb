{
 "cells": [
  {
   "cell_type": "markdown",
   "id": "fa7c1e41",
   "metadata": {},
   "source": [
    "1. Przygotowanie danych\n",
    "\n",
    "Używając instrukcji zawartej w rozdziale 3.1 można wygenerować zdarzenia w programie GENIE. Wygenerowane dane zostaną zapisane w formacie .ROOT, który należy zamieniać na format RooTracker za pomocą komendy:\n",
    "gntpc -i <nazwa pliku.root> -f rootracker\n",
    "\n",
    "Używając tak przygotowanego pliku interesujące nas dane można przepisać do formatu .csv."
   ]
  },
  {
   "cell_type": "code",
   "execution_count": null,
   "id": "bbf534c6",
   "metadata": {},
   "outputs": [],
   "source": [
    "import ROOT\n",
    "import csv\n",
    "import math\n",
    "import re"
   ]
  },
  {
   "cell_type": "code",
   "execution_count": null,
   "id": "c8a19936",
   "metadata": {},
   "outputs": [],
   "source": [
    "nu_file = ROOT.TFile(\"plik.gtrac_mu.root\")"
   ]
  },
  {
   "cell_type": "code",
   "execution_count": null,
   "id": "37d490c4",
   "metadata": {},
   "outputs": [],
   "source": [
    "#Lista kodów PDG cząstek neutralnych, które chcemy usunąć ze zbioru danych\n",
    "neutral_particles = [\n",
    "    -12, 12, -14, 14, -16, 16,\n",
    "    -3122, 3122, -3212, 3212, -421, 421, -311, 311,\n",
    "    -130, 130, 2000000101, 1000180400, 130, 310,\n",
    "    3322, -3322, 221, 331, 443, 2112, -2112\n",
    "]"
   ]
  },
  {
   "cell_type": "code",
   "execution_count": null,
   "id": "3ac05a46",
   "metadata": {},
   "outputs": [],
   "source": [
    "#Funkcja do wyciągnięcia ze zdarzenia typu (CC/NC) oraz rodzaju (RES,DIS,QES) oddziaływania\n",
    "def parse_interaction_code(code_str):\n",
    "    current_match = re.search(r'\\[(NC|CC)\\]', code_str)\n",
    "    current = current_match.group(1) if current_match else \"UNKNOWN\"\n",
    "\n",
    "    if \"DIS\" in code_str:\n",
    "        interaction = \"DIS\"\n",
    "    elif \"RES\" in code_str:\n",
    "        interaction = \"RES\"\n",
    "    elif \"QES\" in code_str:\n",
    "        interaction = \"QES\"\n",
    "    else:\n",
    "        interaction = \"OTHER\"\n",
    "\n",
    "    return current, interaction"
   ]
  },
  {
   "cell_type": "code",
   "execution_count": null,
   "id": "80df16c8",
   "metadata": {},
   "outputs": [],
   "source": [
    "def extract_data(input_file, output_file, particles_list):\n",
    "    tree = input_file.Get(\"gRooTracker\") #Wgranie drzewa ROOT z danymi\n",
    "    with open(output_file, 'w', newline='') as f:\n",
    "        writer = csv.writer(f)\n",
    "        header = [\"EvtNum\", \"CurrentType\", \"InteractionType\"]\n",
    "        for i in range(4):\n",
    "            header.append(f\"P{i+1}_id\")\n",
    "            header.append(f\"P{i+1}_px\")\n",
    "            header.append(f\"P{i+1}_py\")\n",
    "            header.append(f\"P{i+1}_pz\")\n",
    "            header.append(f\"P{i+1}_E\")\n",
    "        writer.writerow(header)\n",
    "        \n",
    "        for entry in tree:\n",
    "            \n",
    "            interaction_str = tree.EvtCode.GetString().Data() if hasattr(tree, \"EvtCode\") else \"proc:Unknown\" #Czytanie inforamcji o oddziaływaniu w zdarzeniu\n",
    "            current_type, interaction_type = parse_interaction_code(interaction_str) \n",
    "\n",
    "            row = [tree.EvtNum, current_type, interaction_type]\n",
    "            particle_data = []\n",
    "            #Lista zawierajaca czteropędy każdej cząstki\n",
    "            four_vectors = tree.StdHepP4\n",
    "            #Iteracja po cząstkach w oddziaływaniu\n",
    "            for particle in range(tree.StdHepN):\n",
    "                particle_type = tree.StdHepPdg[particle] #Kod PDG czastki\n",
    "                if tree.StdHepStatus[particle] != 1:  #Sprawdzanie czy cząstka jest stanem finalnym\n",
    "                    continue\n",
    "            #Dla protonu sprawdzamy, czy jego pęd jest większy od 400 MeV, w przeciwnym przypadku nie zostaje zapisany\n",
    "                if particle_type == 2212:\n",
    "                    px = four_vectors[4 * particle + 0]\n",
    "                    py = four_vectors[4 * particle + 1]\n",
    "                    pz = four_vectors[4 * particle + 2]\n",
    "                    momentum = math.sqrt(px**2 + py**2 + pz**2)\n",
    "                    if momentum < 0.4:\n",
    "                        continue\n",
    "\n",
    "            #Sprawdzenie czy kod PDG cząstki znajduje się w liście cząstek neutralnych\n",
    "                if particle_type in particles_list:\n",
    "                    continue\n",
    "\n",
    "            #Dodajemy kod cząstki oraz jej czteropęd do listy\n",
    "                particle_data.append(particle_type)\n",
    "                for counter in range(4):\n",
    "                    particle_data.append(four_vectors[4 * particle + counter])\n",
    "\n",
    "            \n",
    "            if particle_data:\n",
    "                writer.writerow(row + particle_data)\n"
   ]
  },
  {
   "cell_type": "code",
   "execution_count": null,
   "id": "b02336ec",
   "metadata": {},
   "outputs": [],
   "source": [
    "extract_data(nu_file, 'test_data_tau.csv', neutral_particles)"
   ]
  }
 ],
 "metadata": {
  "language_info": {
   "name": "python"
  }
 },
 "nbformat": 4,
 "nbformat_minor": 5
}
